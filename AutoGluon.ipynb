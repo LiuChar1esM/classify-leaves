{
 "cells": [
  {
   "cell_type": "code",
   "execution_count": 1,
   "id": "09815844",
   "metadata": {},
   "outputs": [],
   "source": [
    "%%capture\n",
    "!pip install autogluon.vison --pre\n",
    "!pip install mxnet-cu110"
   ]
  },
  {
   "cell_type": "code",
   "execution_count": 2,
   "id": "c69efee4",
   "metadata": {},
   "outputs": [],
   "source": [
    "import os\n",
    "import numpy as np\n",
    "import pandas as pd\n",
    "import logging\n",
    "logging.basicConfig(level = logging.INFO)\n",
    "#attach logging to console\n",
    "logging.getLogger().addHandler(logging.StreamHandler())"
   ]
  },
  {
   "cell_type": "markdown",
   "id": "1a285b4d",
   "metadata": {},
   "source": [
    "# Stsep1:import AutoGluon"
   ]
  },
  {
   "cell_type": "code",
   "execution_count": 3,
   "id": "3479d854",
   "metadata": {},
   "outputs": [],
   "source": [
    "import autogluon.core as ag\n",
    "from autogluon.vision import ImagePredictor"
   ]
  },
  {
   "cell_type": "markdown",
   "id": "e6f7e866",
   "metadata": {},
   "source": [
    "# Step2:Apply customization to competition data"
   ]
  },
  {
   "cell_type": "code",
   "execution_count": 4,
   "id": "22728406",
   "metadata": {},
   "outputs": [],
   "source": [
    "def fix_root(df, root = ''):\n",
    "    df['iamge'] = df['image'].apply(lambda x:os.path.join(root, x))\n",
    "    return df\n",
    "\n",
    "#load train data\n",
    "train_data = fix_root(pd.read_csv('train.csv'))"
   ]
  },
  {
   "cell_type": "code",
   "execution_count": null,
   "id": "5ff87b69",
   "metadata": {},
   "outputs": [
    {
     "name": "stderr",
     "output_type": "stream",
     "text": [
      "INFO:root:ImagePredictor sets accuracy as default eval_metric for classification problems.\n",
      "ImagePredictor sets accuracy as default eval_metric for classification problems.\n",
      "INFO:TorchImageClassificationEstimator:modified configs(<old> != <new>): {\n",
      "modified configs(<old> != <new>): {\n",
      "INFO:TorchImageClassificationEstimator:root.train.early_stop_max_value 1.0 != inf\n",
      "root.train.early_stop_max_value 1.0 != inf\n",
      "INFO:TorchImageClassificationEstimator:root.train.epochs    200 != 50\n",
      "root.train.epochs    200 != 50\n",
      "INFO:TorchImageClassificationEstimator:root.train.lr        0.01 != 0.1\n",
      "root.train.lr        0.01 != 0.1\n",
      "INFO:TorchImageClassificationEstimator:root.train.early_stop_baseline 0.0 != -inf\n",
      "root.train.early_stop_baseline 0.0 != -inf\n",
      "INFO:TorchImageClassificationEstimator:root.train.early_stop_patience -1 != 5\n",
      "root.train.early_stop_patience -1 != 5\n",
      "INFO:TorchImageClassificationEstimator:root.train.batch_size 32 != 64\n",
      "root.train.batch_size 32 != 64\n",
      "INFO:TorchImageClassificationEstimator:root.img_cls.model   resnet101 != resnet50\n",
      "root.img_cls.model   resnet101 != resnet50\n",
      "INFO:TorchImageClassificationEstimator:root.misc.num_workers 4 != 12\n",
      "root.misc.num_workers 4 != 12\n",
      "INFO:TorchImageClassificationEstimator:root.misc.seed       42 != 273\n",
      "root.misc.seed       42 != 273\n",
      "INFO:TorchImageClassificationEstimator:root.gpus            (0,) != ()\n",
      "root.gpus            (0,) != ()\n",
      "INFO:TorchImageClassificationEstimator:}\n",
      "}\n",
      "INFO:TorchImageClassificationEstimator:Saved config to D:\\jupyter\\d2l-zh\\classify-leaves\\3c9c18e6\\.trial_0\\config.yaml\n",
      "Saved config to D:\\jupyter\\d2l-zh\\classify-leaves\\3c9c18e6\\.trial_0\\config.yaml\n",
      "INFO:TorchImageClassificationEstimator:Model resnet50 created, param count:                                         23868656\n",
      "Model resnet50 created, param count:                                         23868656\n",
      "INFO:TorchImageClassificationEstimator:AMP not enabled. Training in float32.\n",
      "AMP not enabled. Training in float32.\n",
      "INFO:TorchImageClassificationEstimator:Disable EMA as it is not supported for now.\n",
      "Disable EMA as it is not supported for now.\n",
      "INFO:TorchImageClassificationEstimator:Start training from [Epoch 0]\n",
      "Start training from [Epoch 0]\n"
     ]
    }
   ],
   "source": [
    "predictor = ImagePredictor(verbosity = 1).fit(train_data,time_limit = 3600*3, \n",
    "                                              presets = 'medium_quality_faster_train',\n",
    "                                              hyperparameters = {'epoches':30, 'model':'resnet50',\n",
    "                                                                 'lr': ag.Categorical(0.1,0.15)}\n",
    "                                             )\n",
    "print(predictor.fit_summary())"
   ]
  },
  {
   "cell_type": "markdown",
   "id": "aad0b9eb",
   "metadata": {},
   "source": [
    "# Step3:Test"
   ]
  },
  {
   "cell_type": "code",
   "execution_count": null,
   "id": "bc6bff92",
   "metadata": {},
   "outputs": [],
   "source": [
    "test = pd.read_csv('test.vsc')\n",
    "test"
   ]
  },
  {
   "cell_type": "code",
   "execution_count": null,
   "id": "787203c2",
   "metadata": {},
   "outputs": [],
   "source": [
    "pred_test = predictor.predict(fix_root(test.copy()))"
   ]
  },
  {
   "cell_type": "code",
   "execution_count": null,
   "id": "de6aff6e",
   "metadata": {},
   "outputs": [],
   "source": []
  },
  {
   "cell_type": "code",
   "execution_count": null,
   "id": "6405771d",
   "metadata": {},
   "outputs": [],
   "source": []
  },
  {
   "cell_type": "code",
   "execution_count": null,
   "id": "eba728b8",
   "metadata": {},
   "outputs": [],
   "source": []
  }
 ],
 "metadata": {
  "kernelspec": {
   "display_name": "Python 3",
   "language": "python",
   "name": "python3"
  },
  "language_info": {
   "codemirror_mode": {
    "name": "ipython",
    "version": 3
   },
   "file_extension": ".py",
   "mimetype": "text/x-python",
   "name": "python",
   "nbconvert_exporter": "python",
   "pygments_lexer": "ipython3",
   "version": "3.8.8"
  },
  "toc": {
   "base_numbering": 1,
   "nav_menu": {},
   "number_sections": true,
   "sideBar": true,
   "skip_h1_title": false,
   "title_cell": "Table of Contents",
   "title_sidebar": "Contents",
   "toc_cell": false,
   "toc_position": {},
   "toc_section_display": true,
   "toc_window_display": false
  }
 },
 "nbformat": 4,
 "nbformat_minor": 5
}
